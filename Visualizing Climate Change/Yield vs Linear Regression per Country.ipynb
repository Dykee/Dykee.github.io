{
 "cells": [
  {
   "cell_type": "code",
   "execution_count": 1,
   "metadata": {},
   "outputs": [
    {
     "data": {
      "text/html": [
       "        <script type=\"text/javascript\">\n",
       "        window.PlotlyConfig = {MathJaxConfig: 'local'};\n",
       "        if (window.MathJax) {MathJax.Hub.Config({SVG: {font: \"STIX-Web\"}});}\n",
       "        if (typeof require !== 'undefined') {\n",
       "        require.undef(\"plotly\");\n",
       "        requirejs.config({\n",
       "            paths: {\n",
       "                'plotly': ['https://cdn.plot.ly/plotly-latest.min']\n",
       "            }\n",
       "        });\n",
       "        require(['plotly'], function(Plotly) {\n",
       "            window._Plotly = Plotly;\n",
       "        });\n",
       "        }\n",
       "        </script>\n",
       "        "
      ]
     },
     "metadata": {},
     "output_type": "display_data"
    }
   ],
   "source": [
    "import pandas as pd  \n",
    "import numpy as np  \n",
    "import matplotlib.pyplot as plt  \n",
    "import seaborn as seabornInstance \n",
    "from sklearn.model_selection import train_test_split \n",
    "from sklearn.linear_model import LinearRegression\n",
    "from sklearn import metrics\n",
    "from sklearn.impute import SimpleImputer\n",
    "import plotly.graph_objs as go\n",
    "import plotly.offline as py\n",
    "py.init_notebook_mode(connected=True)\n",
    "%matplotlib inline"
   ]
  },
  {
   "cell_type": "code",
   "execution_count": 2,
   "metadata": {},
   "outputs": [],
   "source": [
    "Yields = pd.read_csv('/home/dgorrell/Downloads/FAOSTAT_data_10-8-2019.csv')\n",
    "Temp = pd.read_csv('/home/dgorrell/Downloads/GlobalTemperatures.csv')"
   ]
  },
  {
   "cell_type": "code",
   "execution_count": 3,
   "metadata": {},
   "outputs": [],
   "source": [
    "# Creating a list of years present in our data\n",
    "\n",
    "years = np.unique(Temp['dt'].apply(lambda x: x[:4]))\n",
    "mean_temp_world = []\n",
    "mean_temp_world_uncertainty = []\n",
    "\n",
    "for year in years:\n",
    "    mean_temp_world.append(Temp[Temp['dt'].apply(\n",
    "        lambda x: x[:4]) == year]['LandAverageTemperature'].mean())\n",
    "    mean_temp_world_uncertainty.append(Temp[Temp['dt'].apply(\n",
    "                lambda x: x[:4]) == year]['LandAverageTemperatureUncertainty'].mean())"
   ]
  },
  {
   "cell_type": "code",
   "execution_count": 4,
   "metadata": {},
   "outputs": [],
   "source": [
    "#Let's remove the duplicated countries (in the analysis, we don't consider the presence of \n",
    "#colonies at this the countries) and countries for which no information about the temperature\n",
    "global_temp_country = pd.read_csv('/home/dgorrell/Downloads/GlobalLandTemperaturesByCountry.csv')\n",
    "\n",
    "global_temp_country_clear = global_temp_country[~global_temp_country['Country'].isin(\n",
    "    ['Denmark', 'Antarctica', 'France', 'Europe', 'Netherlands',\n",
    "     'United Kingdom', 'Africa', 'South America'])]\n",
    "\n",
    "global_temp_country_clear = global_temp_country_clear.replace(\n",
    "   ['Denmark (Europe)', 'France (Europe)', 'Netherlands (Europe)', 'United Kingdom (Europe)'],\n",
    "   ['Denmark', 'France', 'Netherlands', 'United Kingdom'])"
   ]
  },
  {
   "cell_type": "code",
   "execution_count": 54,
   "metadata": {},
   "outputs": [],
   "source": [
    "#continent = ['Russia', 'United States', 'Niger', 'Greenland', 'Australia', 'Bolivia']\n",
    "#continent = global_temp_country[\"Country\"] \n",
    "#continent = Yields[\"Area\"].unique()\n",
    "#continent = [\"Niger\"]\n",
    "mean_temp_year_country = [ [0] * len(years[0:]) for i in range(len(continent))]\n",
    "j = 0\n",
    "for country in continent:\n",
    "    all_temp_country = global_temp_country_clear[global_temp_country_clear['Country'] == country]\n",
    "    i = 0\n",
    "    for year in years[0:]:\n",
    "        mean_temp_year_country[j][i] = all_temp_country[all_temp_country['dt'].apply(\n",
    "                lambda x: x[:4]) == year]['AverageTemperature'].mean()\n",
    "        i +=1\n",
    "    j += 1\n",
    "\n",
    "#traces = []\n",
    "#colors = ['rgb(0, 255, 255)', 'rgb(255, 0, 255)', 'rgb(0, 0, 0)',\n",
    "#          'rgb(255, 0, 0)', 'rgb(0, 255, 0)', 'rgb(0, 0, 255)']\n",
    "#for i in range(len(continent)):\n",
    "#    traces.append(go.Scatter(\n",
    "#        x=years[0:],\n",
    "#       y=mean_temp_year_country[i],\n",
    "#        mode='lines',\n",
    "#        name=continent[i],\n",
    "#        line=dict(color=colors[i]),\n",
    "#    ))\n",
    "\n",
    "#layout = go.Layout(\n",
    "#    xaxis=dict(title='year'),\n",
    "#    yaxis=dict(title='Average Temperature, °C'),\n",
    "#    title='Average land temperature on the continents',)\n",
    "\n",
    "#fig = go.Figure(data=traces, layout=layout)\n",
    "#py.iplot(fig)"
   ]
  },
  {
   "cell_type": "code",
   "execution_count": 55,
   "metadata": {},
   "outputs": [
    {
     "data": {
      "text/plain": [
       "1791     87401\n",
       "1792     92279\n",
       "1793     78526\n",
       "1794     78143\n",
       "1795    101330\n",
       "1796    100178\n",
       "1797    118966\n",
       "1798     87713\n",
       "1799    112768\n",
       "1800    106731\n",
       "1801    103392\n",
       "1802     92670\n",
       "1803     99134\n",
       "1804     86716\n",
       "1805    102276\n",
       "1806    105001\n",
       "1807     72058\n",
       "1808     70530\n",
       "1809     91150\n",
       "1810     91091\n",
       "1811     91073\n",
       "1812     92310\n",
       "1813     96898\n",
       "1814     99704\n",
       "1815    103011\n",
       "1816     59271\n",
       "1817     58567\n",
       "1818     59062\n",
       "1819     51732\n",
       "1820     54593\n",
       "1821     47217\n",
       "1822     36875\n",
       "1823     36265\n",
       "1824     40870\n",
       "1825     36456\n",
       "1826     37845\n",
       "1827     37578\n",
       "1828     49242\n",
       "1829     40000\n",
       "1830     34909\n",
       "1831     38000\n",
       "1832     40153\n",
       "1833     39938\n",
       "1834     39602\n",
       "1835     44199\n",
       "1836     34279\n",
       "1837     45107\n",
       "1838     51231\n",
       "1839     31191\n",
       "1840     32033\n",
       "1841     28346\n",
       "1842     45419\n",
       "1843     25112\n",
       "1844     59294\n",
       "1845     42002\n",
       "1846     50278\n",
       "1847     60045\n",
       "Name: Value, dtype: int64"
      ]
     },
     "execution_count": 55,
     "metadata": {},
     "output_type": "execute_result"
    }
   ],
   "source": [
    "# Yields \n",
    "maskCountry = Yields[\"Area\"] == \"Ecuador\"\n",
    "yearsInCountry = Yields[\"Year\"][maskCountry]\n",
    "yieldsInCountry = Yields[\"Value\"][maskCountry]\n",
    "yieldsInCountry"
   ]
  },
  {
   "cell_type": "code",
   "execution_count": null,
   "metadata": {},
   "outputs": [],
   "source": [
    "# \n",
    "maskedTempCountry = continent == \"Niger\"\n",
    "tempInCountry = np.array(mean_temp_year_country[maskedTempCountry])\n",
    "yearsInCountryTemp = np.array(years).astype(\"int\")\n",
    "tempInCountry.shape, yearsInCountryTemp.shape\n",
    "#years"
   ]
  },
  {
   "cell_type": "code",
   "execution_count": null,
   "metadata": {},
   "outputs": [],
   "source": [
    "minAll = max([yearsInCountryTemp.min(),yearsInCountry.min()])\n",
    "maxAll = min([yearsInCountryTemp.max(),yearsInCountry.max()])"
   ]
  },
  {
   "cell_type": "code",
   "execution_count": null,
   "metadata": {},
   "outputs": [],
   "source": [
    "# Temp in country masked is x, which is explanitory\n",
    "#  Yields is your y variable, dependent variable \n",
    "tempInCountryMasked = tempInCountry[(yearsInCountryTemp >= minAll) & (yearsInCountryTemp <= maxAll)] \n",
    "yieldsInCountryMasked = yieldsInCountry[(yearsInCountry >= minAll) & (yearsInCountry <= maxAll)] "
   ]
  },
  {
   "cell_type": "code",
   "execution_count": 56,
   "metadata": {},
   "outputs": [
    {
     "data": {
      "text/plain": [
       "array(['American Samoa', 'Angola', 'Antigua and Barbuda', 'Argentina',\n",
       "       'Bahamas', 'Barbados', 'Belize', 'Benin',\n",
       "       'Bolivia (Plurinational State of)', 'Brazil', 'Brunei Darussalam',\n",
       "       'Burkina Faso', 'Burundi', 'Cabo Verde', 'Cambodia', 'Cameroon',\n",
       "       'Cayman Islands', 'Central African Republic', 'Chad', 'China',\n",
       "       'China, mainland', 'China, Taiwan Province of', 'Colombia',\n",
       "       'Comoros', 'Congo', 'Cook Islands', 'Costa Rica', \"Côte d'Ivoire\",\n",
       "       'Cuba', 'Democratic Republic of the Congo', 'Dominica',\n",
       "       'Dominican Republic', 'Ecuador', 'El Salvador',\n",
       "       'Equatorial Guinea', 'Fiji', 'French Guiana', 'French Polynesia',\n",
       "       'Gabon', 'Gambia', 'Ghana', 'Grenada', 'Guadeloupe', 'Guatemala',\n",
       "       'Guinea', 'Guinea-Bissau', 'Guyana', 'Haiti', 'Honduras', 'India',\n",
       "       'Indonesia', 'Jamaica', 'Kenya',\n",
       "       \"Lao People's Democratic Republic\", 'Liberia', 'Madagascar',\n",
       "       'Malawi', 'Malaysia', 'Maldives', 'Mali', 'Martinique',\n",
       "       'Mauritius', 'Mexico', 'Micronesia (Federated States of)',\n",
       "       'Mozambique', 'Myanmar', 'New Caledonia', 'Nicaragua', 'Niger',\n",
       "       'Nigeria', 'Niue', 'Pacific Islands Trust Territory', 'Panama',\n",
       "       'Papua New Guinea', 'Paraguay', 'Peru', 'Philippines',\n",
       "       'Puerto Rico', 'Réunion', 'Rwanda', 'Saint Lucia',\n",
       "       'Saint Vincent and the Grenadines', 'Samoa',\n",
       "       'Sao Tome and Principe', 'Senegal', 'Seychelles', 'Sierra Leone',\n",
       "       'Singapore', 'Solomon Islands', 'Somalia', 'South Sudan',\n",
       "       'Sri Lanka', 'Sudan (former)', 'Suriname', 'Thailand',\n",
       "       'Timor-Leste', 'Togo', 'Tonga', 'Trinidad and Tobago', 'Uganda',\n",
       "       'United Republic of Tanzania',\n",
       "       'Venezuela (Bolivarian Republic of)', 'Viet Nam',\n",
       "       'Wallis and Futuna Islands', 'Zambia', 'Zimbabwe'], dtype=object)"
      ]
     },
     "execution_count": 56,
     "metadata": {},
     "output_type": "execute_result"
    }
   ],
   "source": [
    "# List of all names in dataset\n",
    "Yields[\"Area\"].unique()"
   ]
  },
  {
   "cell_type": "code",
   "execution_count": null,
   "metadata": {},
   "outputs": [],
   "source": [
    "#\n",
    "global_temp_country[\"Country\"].unique()"
   ]
  },
  {
   "cell_type": "code",
   "execution_count": null,
   "metadata": {},
   "outputs": [],
   "source": [
    "global_temp_country"
   ]
  },
  {
   "cell_type": "code",
   "execution_count": null,
   "metadata": {},
   "outputs": [],
   "source": [
    "Yields"
   ]
  },
  {
   "cell_type": "code",
   "execution_count": null,
   "metadata": {},
   "outputs": [],
   "source": [
    "# Homework\n",
    "# Replciate linear  regression using new x and y  \n",
    "# see if I can create graphs for different countries"
   ]
  },
  {
   "cell_type": "code",
   "execution_count": null,
   "metadata": {},
   "outputs": [],
   "source": [
    "X = tempInCountryMasked.reshape(-1,1)\n",
    "y = yieldsInCountryMasked.values.reshape(-1,1) # .values was found from the follwoing website: https://stackoverflow.com/questions/53723928/attributeerror-series-object-has-no-attribute-reshape"
   ]
  },
  {
   "cell_type": "code",
   "execution_count": null,
   "metadata": {},
   "outputs": [],
   "source": [
    "X_train, X_test, y_train, y_test = train_test_split(X, y, test_size=0.2, random_state=0)"
   ]
  },
  {
   "cell_type": "code",
   "execution_count": 57,
   "metadata": {},
   "outputs": [
    {
     "data": {
      "text/plain": [
       "array([], dtype=float64)"
      ]
     },
     "execution_count": 57,
     "metadata": {},
     "output_type": "execute_result"
    }
   ],
   "source": [
    "X_train[np.isnan(X_train)]"
   ]
  },
  {
   "cell_type": "code",
   "execution_count": null,
   "metadata": {},
   "outputs": [],
   "source": [
    "y_train[np.isnan(y_train)]"
   ]
  },
  {
   "cell_type": "code",
   "execution_count": 58,
   "metadata": {},
   "outputs": [
    {
     "data": {
      "text/plain": [
       "array([], dtype=float64)"
      ]
     },
     "execution_count": 58,
     "metadata": {},
     "output_type": "execute_result"
    }
   ],
   "source": [
    "X_train[np.isneginf(X_train)]"
   ]
  },
  {
   "cell_type": "code",
   "execution_count": 59,
   "metadata": {},
   "outputs": [
    {
     "data": {
      "text/plain": [
       "array([], dtype=int64)"
      ]
     },
     "execution_count": 59,
     "metadata": {},
     "output_type": "execute_result"
    }
   ],
   "source": [
    "y_train[np.isneginf(y_train)]"
   ]
  },
  {
   "cell_type": "code",
   "execution_count": 60,
   "metadata": {},
   "outputs": [
    {
     "data": {
      "text/plain": [
       "array([], dtype=float64)"
      ]
     },
     "execution_count": 60,
     "metadata": {},
     "output_type": "execute_result"
    }
   ],
   "source": [
    "X_train[np.isinf(X_train)]"
   ]
  },
  {
   "cell_type": "code",
   "execution_count": 61,
   "metadata": {},
   "outputs": [
    {
     "data": {
      "text/plain": [
       "array([], dtype=int64)"
      ]
     },
     "execution_count": 61,
     "metadata": {},
     "output_type": "execute_result"
    }
   ],
   "source": [
    "y_train[np.isinf(y_train)]"
   ]
  },
  {
   "cell_type": "code",
   "execution_count": 62,
   "metadata": {},
   "outputs": [],
   "source": [
    "mask = np.isnan(X_train)\n",
    "X_train = X_train[~mask].reshape(-1,1)\n",
    "y_train = y_train[~mask].reshape(-1,1)"
   ]
  },
  {
   "cell_type": "code",
   "execution_count": null,
   "metadata": {},
   "outputs": [],
   "source": [
    "# This is training our algorithm \n",
    "regressor = LinearRegression() \n",
    "regressor.fit(X_train, y_train) #training the algorithm"
   ]
  },
  {
   "cell_type": "code",
   "execution_count": 63,
   "metadata": {},
   "outputs": [],
   "source": [
    "y_pred = regressor.predict(X_test)"
   ]
  },
  {
   "cell_type": "code",
   "execution_count": 64,
   "metadata": {},
   "outputs": [
    {
     "data": {
      "text/html": [
       "<div>\n",
       "<style scoped>\n",
       "    .dataframe tbody tr th:only-of-type {\n",
       "        vertical-align: middle;\n",
       "    }\n",
       "\n",
       "    .dataframe tbody tr th {\n",
       "        vertical-align: top;\n",
       "    }\n",
       "\n",
       "    .dataframe thead th {\n",
       "        text-align: right;\n",
       "    }\n",
       "</style>\n",
       "<table border=\"1\" class=\"dataframe\">\n",
       "  <thead>\n",
       "    <tr style=\"text-align: right;\">\n",
       "      <th></th>\n",
       "      <th>Actual</th>\n",
       "      <th>Predicted</th>\n",
       "    </tr>\n",
       "  </thead>\n",
       "  <tbody>\n",
       "    <tr>\n",
       "      <td>0</td>\n",
       "      <td>34279</td>\n",
       "      <td>56197.027128</td>\n",
       "    </tr>\n",
       "    <tr>\n",
       "      <td>1</td>\n",
       "      <td>40870</td>\n",
       "      <td>82805.844145</td>\n",
       "    </tr>\n",
       "    <tr>\n",
       "      <td>2</td>\n",
       "      <td>38000</td>\n",
       "      <td>61368.888718</td>\n",
       "    </tr>\n",
       "    <tr>\n",
       "      <td>3</td>\n",
       "      <td>58567</td>\n",
       "      <td>57989.872744</td>\n",
       "    </tr>\n",
       "    <tr>\n",
       "      <td>4</td>\n",
       "      <td>92670</td>\n",
       "      <td>70365.487621</td>\n",
       "    </tr>\n",
       "    <tr>\n",
       "      <td>5</td>\n",
       "      <td>78526</td>\n",
       "      <td>66236.962578</td>\n",
       "    </tr>\n",
       "    <tr>\n",
       "      <td>6</td>\n",
       "      <td>36265</td>\n",
       "      <td>72265.405961</td>\n",
       "    </tr>\n",
       "    <tr>\n",
       "      <td>7</td>\n",
       "      <td>39602</td>\n",
       "      <td>53791.625927</td>\n",
       "    </tr>\n",
       "    <tr>\n",
       "      <td>8</td>\n",
       "      <td>45107</td>\n",
       "      <td>52586.435263</td>\n",
       "    </tr>\n",
       "    <tr>\n",
       "      <td>9</td>\n",
       "      <td>47217</td>\n",
       "      <td>69103.025500</td>\n",
       "    </tr>\n",
       "    <tr>\n",
       "      <td>10</td>\n",
       "      <td>101330</td>\n",
       "      <td>89775.531477</td>\n",
       "    </tr>\n",
       "  </tbody>\n",
       "</table>\n",
       "</div>"
      ],
      "text/plain": [
       "    Actual     Predicted\n",
       "0    34279  56197.027128\n",
       "1    40870  82805.844145\n",
       "2    38000  61368.888718\n",
       "3    58567  57989.872744\n",
       "4    92670  70365.487621\n",
       "5    78526  66236.962578\n",
       "6    36265  72265.405961\n",
       "7    39602  53791.625927\n",
       "8    45107  52586.435263\n",
       "9    47217  69103.025500\n",
       "10  101330  89775.531477"
      ]
     },
     "execution_count": 64,
     "metadata": {},
     "output_type": "execute_result"
    }
   ],
   "source": [
    "df = pd.DataFrame({'Actual': y_test.flatten(), 'Predicted': y_pred.flatten()})\n",
    "df"
   ]
  },
  {
   "cell_type": "code",
   "execution_count": null,
   "metadata": {},
   "outputs": [],
   "source": [
    "# Creating a bar graph to visualize the actual and predicted values\n",
    "df1 = df.head(25)\n",
    "df1.plot(kind='bar',figsize=(16,10))\n",
    "plt.grid(which='major', linestyle='-', linewidth='0.5', color='green')\n",
    "plt.grid(which='minor', linestyle=':', linewidth='0.5', color='black')\n",
    "plt.show()"
   ]
  },
  {
   "cell_type": "code",
   "execution_count": 65,
   "metadata": {},
   "outputs": [
    {
     "data": {
      "image/png": "[encoded data removed]",
      "text/plain": [
       "<Figure size 432x288 with 1 Axes>"
      ]
     },
     "metadata": {
      "needs_background": "light"
     },
     "output_type": "display_data"
    }
   ],
   "source": [
    "\n",
    "# They are fitting model and creating line\n",
    "plt.scatter(X_test, y_test,  color='gray')\n",
    "plt.plot(X_test, y_pred, color='red', linewidth=2)\n",
    "plt.xlabel(\"Average Global Temp\") \n",
    "plt.ylabel(\"Average Yield Per Year\")\n",
    "plt.show()"
   ]
  },
  {
   "cell_type": "code",
   "execution_count": 66,
   "metadata": {},
   "outputs": [
    {
     "name": "stdout",
     "output_type": "stream",
     "text": [
      "Mean Absolute Error: 19409.3998383797\n",
      "Mean Squared Error: 509071382.417042\n",
      "Root Mean Squared Error: 22562.61027490042\n"
     ]
    }
   ],
   "source": [
    "# VERY IMPORTANT, this helps us understand the performance of \n",
    "# the algorithim \n",
    "print('Mean Absolute Error:', metrics.mean_absolute_error(y_test, y_pred))  \n",
    "print('Mean Squared Error:', metrics.mean_squared_error(y_test, y_pred))  \n",
    "print('Root Mean Squared Error:', np.sqrt(metrics.mean_squared_error(y_test, y_pred)))"
   ]
  },
  {
   "cell_type": "code",
   "execution_count": null,
   "metadata": {},
   "outputs": [],
   "source": [
    "# Homework write a for loop that loops over all of the African Countires. \n",
    "# Does a linear Regression and makes a plot!"
   ]
  }
 ],
 "metadata": {
  "kernelspec": {
   "display_name": "Python 3",
   "language": "python",
   "name": "python3"
  },
  "language_info": {
   "codemirror_mode": {
    "name": "ipython",
    "version": 3
   },
   "file_extension": ".py",
   "mimetype": "text/x-python",
   "name": "python",
   "nbconvert_exporter": "python",
   "pygments_lexer": "ipython3",
   "version": "3.7.4"
  },
  "toc": {
   "base_numbering": 1,
   "nav_menu": {},
   "number_sections": true,
   "sideBar": true,
   "skip_h1_title": false,
   "title_cell": "Table of Contents",
   "title_sidebar": "Contents",
   "toc_cell": false,
   "toc_position": {},
   "toc_section_display": true,
   "toc_window_display": false
  },
  "varInspector": {
   "cols": {
    "lenName": 16,
    "lenType": 16,
    "lenVar": 40
   },
   "kernels_config": {
    "python": {
     "delete_cmd_postfix": "",
     "delete_cmd_prefix": "del ",
     "library": "var_list.py",
     "varRefreshCmd": "print(var_dic_list())"
    },
    "r": {
     "delete_cmd_postfix": ") ",
     "delete_cmd_prefix": "rm(",
     "library": "var_list.r",
     "varRefreshCmd": "cat(var_dic_list()) "
    }
   },
   "types_to_exclude": [
    "module",
    "function",
    "builtin_function_or_method",
    "instance",
    "_Feature"
   ],
   "window_display": false
  }
 },
 "nbformat": 4,
 "nbformat_minor": 2
}
