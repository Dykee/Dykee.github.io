{
 "cells": [
  {
   "cell_type": "code",
   "execution_count": 7,
   "metadata": {},
   "outputs": [
    {
     "name": "stdout",
     "output_type": "stream",
     "text": [
      "Requirement already satisfied: jupyterthemes in /home/dgorrell/anaconda3/envs/independentStudy/lib/python3.7/site-packages (0.20.0)\n",
      "Requirement already satisfied: ipython>=5.4.1 in /home/dgorrell/anaconda3/envs/independentStudy/lib/python3.7/site-packages (from jupyterthemes) (7.8.0)\n",
      "Requirement already satisfied: lesscpy>=0.11.2 in /home/dgorrell/anaconda3/envs/independentStudy/lib/python3.7/site-packages (from jupyterthemes) (0.13.0)\n",
      "Requirement already satisfied: notebook>=5.6.0 in /home/dgorrell/anaconda3/envs/independentStudy/lib/python3.7/site-packages (from jupyterthemes) (6.0.1)\n",
      "Requirement already satisfied: matplotlib>=1.4.3 in /home/dgorrell/anaconda3/envs/independentStudy/lib/python3.7/site-packages (from jupyterthemes) (3.1.1)\n",
      "Requirement already satisfied: jupyter-core in /home/dgorrell/anaconda3/envs/independentStudy/lib/python3.7/site-packages (from jupyterthemes) (4.5.0)\n",
      "Requirement already satisfied: traitlets>=4.2 in /home/dgorrell/anaconda3/envs/independentStudy/lib/python3.7/site-packages (from ipython>=5.4.1->jupyterthemes) (4.3.2)\n",
      "Requirement already satisfied: pickleshare in /home/dgorrell/anaconda3/envs/independentStudy/lib/python3.7/site-packages (from ipython>=5.4.1->jupyterthemes) (0.7.5)\n",
      "Requirement already satisfied: jedi>=0.10 in /home/dgorrell/anaconda3/envs/independentStudy/lib/python3.7/site-packages (from ipython>=5.4.1->jupyterthemes) (0.15.1)\n",
      "Requirement already satisfied: pexpect; sys_platform != \"win32\" in /home/dgorrell/anaconda3/envs/independentStudy/lib/python3.7/site-packages (from ipython>=5.4.1->jupyterthemes) (4.7.0)\n",
      "Requirement already satisfied: backcall in /home/dgorrell/anaconda3/envs/independentStudy/lib/python3.7/site-packages (from ipython>=5.4.1->jupyterthemes) (0.1.0)\n",
      "Requirement already satisfied: decorator in /home/dgorrell/anaconda3/envs/independentStudy/lib/python3.7/site-packages (from ipython>=5.4.1->jupyterthemes) (4.4.0)\n",
      "Requirement already satisfied: setuptools>=18.5 in /home/dgorrell/anaconda3/envs/independentStudy/lib/python3.7/site-packages (from ipython>=5.4.1->jupyterthemes) (39.1.0)\n",
      "Requirement already satisfied: prompt-toolkit<2.1.0,>=2.0.0 in /home/dgorrell/anaconda3/envs/independentStudy/lib/python3.7/site-packages (from ipython>=5.4.1->jupyterthemes) (2.0.9)\n",
      "Requirement already satisfied: pygments in /home/dgorrell/anaconda3/envs/independentStudy/lib/python3.7/site-packages (from ipython>=5.4.1->jupyterthemes) (2.4.2)\n",
      "Requirement already satisfied: ply in /home/dgorrell/anaconda3/envs/independentStudy/lib/python3.7/site-packages (from lesscpy>=0.11.2->jupyterthemes) (3.11)\n",
      "Requirement already satisfied: six in /home/dgorrell/anaconda3/envs/independentStudy/lib/python3.7/site-packages (from lesscpy>=0.11.2->jupyterthemes) (1.12.0)\n",
      "Requirement already satisfied: terminado>=0.8.1 in /home/dgorrell/anaconda3/envs/independentStudy/lib/python3.7/site-packages (from notebook>=5.6.0->jupyterthemes) (0.8.2)\n",
      "Requirement already satisfied: nbconvert in /home/dgorrell/anaconda3/envs/independentStudy/lib/python3.7/site-packages (from notebook>=5.6.0->jupyterthemes) (5.5.0)\n",
      "Requirement already satisfied: ipython-genutils in /home/dgorrell/anaconda3/envs/independentStudy/lib/python3.7/site-packages (from notebook>=5.6.0->jupyterthemes) (0.2.0)\n",
      "Requirement already satisfied: Send2Trash in /home/dgorrell/anaconda3/envs/independentStudy/lib/python3.7/site-packages (from notebook>=5.6.0->jupyterthemes) (1.5.0)\n",
      "Requirement already satisfied: prometheus-client in /home/dgorrell/anaconda3/envs/independentStudy/lib/python3.7/site-packages (from notebook>=5.6.0->jupyterthemes) (0.7.1)\n",
      "Requirement already satisfied: pyzmq>=17 in /home/dgorrell/anaconda3/envs/independentStudy/lib/python3.7/site-packages (from notebook>=5.6.0->jupyterthemes) (18.1.0)\n",
      "Requirement already satisfied: jinja2 in /home/dgorrell/anaconda3/envs/independentStudy/lib/python3.7/site-packages (from notebook>=5.6.0->jupyterthemes) (2.10.1)\n",
      "Requirement already satisfied: jupyter-client>=5.3.1 in /home/dgorrell/anaconda3/envs/independentStudy/lib/python3.7/site-packages (from notebook>=5.6.0->jupyterthemes) (5.3.1)\n",
      "Requirement already satisfied: ipykernel in /home/dgorrell/anaconda3/envs/independentStudy/lib/python3.7/site-packages (from notebook>=5.6.0->jupyterthemes) (5.1.2)\n",
      "Requirement already satisfied: tornado>=5.0 in /home/dgorrell/anaconda3/envs/independentStudy/lib/python3.7/site-packages (from notebook>=5.6.0->jupyterthemes) (6.0.3)\n",
      "Requirement already satisfied: nbformat in /home/dgorrell/anaconda3/envs/independentStudy/lib/python3.7/site-packages (from notebook>=5.6.0->jupyterthemes) (4.4.0)\n",
      "Requirement already satisfied: cycler>=0.10 in /home/dgorrell/anaconda3/envs/independentStudy/lib/python3.7/site-packages (from matplotlib>=1.4.3->jupyterthemes) (0.10.0)\n",
      "Requirement already satisfied: kiwisolver>=1.0.1 in /home/dgorrell/anaconda3/envs/independentStudy/lib/python3.7/site-packages (from matplotlib>=1.4.3->jupyterthemes) (1.1.0)\n",
      "Requirement already satisfied: pyparsing!=2.0.4,!=2.1.2,!=2.1.6,>=2.0.1 in /home/dgorrell/anaconda3/envs/independentStudy/lib/python3.7/site-packages (from matplotlib>=1.4.3->jupyterthemes) (2.4.2)\n",
      "Requirement already satisfied: python-dateutil>=2.1 in /home/dgorrell/anaconda3/envs/independentStudy/lib/python3.7/site-packages (from matplotlib>=1.4.3->jupyterthemes) (2.8.0)\n",
      "Requirement already satisfied: numpy>=1.11 in /home/dgorrell/anaconda3/envs/independentStudy/lib/python3.7/site-packages (from matplotlib>=1.4.3->jupyterthemes) (1.17.2)\n",
      "Requirement already satisfied: parso>=0.5.0 in /home/dgorrell/anaconda3/envs/independentStudy/lib/python3.7/site-packages (from jedi>=0.10->ipython>=5.4.1->jupyterthemes) (0.5.1)\n",
      "Requirement already satisfied: ptyprocess>=0.5 in /home/dgorrell/anaconda3/envs/independentStudy/lib/python3.7/site-packages (from pexpect; sys_platform != \"win32\"->ipython>=5.4.1->jupyterthemes) (0.6.0)\n",
      "Requirement already satisfied: wcwidth in /home/dgorrell/anaconda3/envs/independentStudy/lib/python3.7/site-packages (from prompt-toolkit<2.1.0,>=2.0.0->ipython>=5.4.1->jupyterthemes) (0.1.7)\n",
      "Requirement already satisfied: testpath in /home/dgorrell/anaconda3/envs/independentStudy/lib/python3.7/site-packages (from nbconvert->notebook>=5.6.0->jupyterthemes) (0.4.2)\n",
      "Requirement already satisfied: defusedxml in /home/dgorrell/anaconda3/envs/independentStudy/lib/python3.7/site-packages (from nbconvert->notebook>=5.6.0->jupyterthemes) (0.6.0)\n",
      "Requirement already satisfied: entrypoints>=0.2.2 in /home/dgorrell/anaconda3/envs/independentStudy/lib/python3.7/site-packages (from nbconvert->notebook>=5.6.0->jupyterthemes) (0.3)\n",
      "Requirement already satisfied: mistune>=0.8.1 in /home/dgorrell/anaconda3/envs/independentStudy/lib/python3.7/site-packages (from nbconvert->notebook>=5.6.0->jupyterthemes) (0.8.4)\n",
      "Requirement already satisfied: pandocfilters>=1.4.1 in /home/dgorrell/anaconda3/envs/independentStudy/lib/python3.7/site-packages (from nbconvert->notebook>=5.6.0->jupyterthemes) (1.4.2)\n",
      "Requirement already satisfied: bleach in /home/dgorrell/anaconda3/envs/independentStudy/lib/python3.7/site-packages (from nbconvert->notebook>=5.6.0->jupyterthemes) (3.1.0)\n",
      "Requirement already satisfied: MarkupSafe>=0.23 in /home/dgorrell/anaconda3/envs/independentStudy/lib/python3.7/site-packages (from jinja2->notebook>=5.6.0->jupyterthemes) (1.1.1)\n",
      "Requirement already satisfied: jsonschema!=2.5.0,>=2.4 in /home/dgorrell/anaconda3/envs/independentStudy/lib/python3.7/site-packages (from nbformat->notebook>=5.6.0->jupyterthemes) (3.0.2)\n",
      "Requirement already satisfied: webencodings in /home/dgorrell/anaconda3/envs/independentStudy/lib/python3.7/site-packages (from bleach->nbconvert->notebook>=5.6.0->jupyterthemes) (0.5.1)\n",
      "Requirement already satisfied: pyrsistent>=0.14.0 in /home/dgorrell/anaconda3/envs/independentStudy/lib/python3.7/site-packages (from jsonschema!=2.5.0,>=2.4->nbformat->notebook>=5.6.0->jupyterthemes) (0.14.11)\n",
      "Requirement already satisfied: attrs>=17.4.0 in /home/dgorrell/anaconda3/envs/independentStudy/lib/python3.7/site-packages (from jsonschema!=2.5.0,>=2.4->nbformat->notebook>=5.6.0->jupyterthemes) (19.1.0)\n",
      "Note: you may need to restart the kernel to use updated packages.\n"
     ]
    }
   ],
   "source": [
    "pip install jupyterthemes"
   ]
  },
  {
   "cell_type": "code",
   "execution_count": 8,
   "metadata": {},
   "outputs": [
    {
     "name": "stdout",
     "output_type": "stream",
     "text": [
      "Requirement already up-to-date: jupyterthemes in /home/dgorrell/anaconda3/envs/independentStudy/lib/python3.7/site-packages (0.20.0)\n",
      "Requirement already satisfied, skipping upgrade: lesscpy>=0.11.2 in /home/dgorrell/anaconda3/envs/independentStudy/lib/python3.7/site-packages (from jupyterthemes) (0.13.0)\n",
      "Requirement already satisfied, skipping upgrade: notebook>=5.6.0 in /home/dgorrell/anaconda3/envs/independentStudy/lib/python3.7/site-packages (from jupyterthemes) (6.0.1)\n",
      "Requirement already satisfied, skipping upgrade: ipython>=5.4.1 in /home/dgorrell/anaconda3/envs/independentStudy/lib/python3.7/site-packages (from jupyterthemes) (7.8.0)\n",
      "Requirement already satisfied, skipping upgrade: matplotlib>=1.4.3 in /home/dgorrell/anaconda3/envs/independentStudy/lib/python3.7/site-packages (from jupyterthemes) (3.1.1)\n",
      "Requirement already satisfied, skipping upgrade: jupyter-core in /home/dgorrell/anaconda3/envs/independentStudy/lib/python3.7/site-packages (from jupyterthemes) (4.5.0)\n",
      "Requirement already satisfied, skipping upgrade: ply in /home/dgorrell/anaconda3/envs/independentStudy/lib/python3.7/site-packages (from lesscpy>=0.11.2->jupyterthemes) (3.11)\n",
      "Requirement already satisfied, skipping upgrade: six in /home/dgorrell/anaconda3/envs/independentStudy/lib/python3.7/site-packages (from lesscpy>=0.11.2->jupyterthemes) (1.12.0)\n",
      "Requirement already satisfied, skipping upgrade: prometheus-client in /home/dgorrell/anaconda3/envs/independentStudy/lib/python3.7/site-packages (from notebook>=5.6.0->jupyterthemes) (0.7.1)\n",
      "Requirement already satisfied, skipping upgrade: tornado>=5.0 in /home/dgorrell/anaconda3/envs/independentStudy/lib/python3.7/site-packages (from notebook>=5.6.0->jupyterthemes) (6.0.3)\n",
      "Requirement already satisfied, skipping upgrade: jupyter-client>=5.3.1 in /home/dgorrell/anaconda3/envs/independentStudy/lib/python3.7/site-packages (from notebook>=5.6.0->jupyterthemes) (5.3.1)\n",
      "Requirement already satisfied, skipping upgrade: nbconvert in /home/dgorrell/anaconda3/envs/independentStudy/lib/python3.7/site-packages (from notebook>=5.6.0->jupyterthemes) (5.5.0)\n",
      "Requirement already satisfied, skipping upgrade: ipykernel in /home/dgorrell/anaconda3/envs/independentStudy/lib/python3.7/site-packages (from notebook>=5.6.0->jupyterthemes) (5.1.2)\n",
      "Requirement already satisfied, skipping upgrade: nbformat in /home/dgorrell/anaconda3/envs/independentStudy/lib/python3.7/site-packages (from notebook>=5.6.0->jupyterthemes) (4.4.0)\n",
      "Requirement already satisfied, skipping upgrade: ipython-genutils in /home/dgorrell/anaconda3/envs/independentStudy/lib/python3.7/site-packages (from notebook>=5.6.0->jupyterthemes) (0.2.0)\n",
      "Requirement already satisfied, skipping upgrade: jinja2 in /home/dgorrell/anaconda3/envs/independentStudy/lib/python3.7/site-packages (from notebook>=5.6.0->jupyterthemes) (2.10.1)\n",
      "Requirement already satisfied, skipping upgrade: traitlets>=4.2.1 in /home/dgorrell/anaconda3/envs/independentStudy/lib/python3.7/site-packages (from notebook>=5.6.0->jupyterthemes) (4.3.2)\n",
      "Requirement already satisfied, skipping upgrade: Send2Trash in /home/dgorrell/anaconda3/envs/independentStudy/lib/python3.7/site-packages (from notebook>=5.6.0->jupyterthemes) (1.5.0)\n",
      "Requirement already satisfied, skipping upgrade: pyzmq>=17 in /home/dgorrell/anaconda3/envs/independentStudy/lib/python3.7/site-packages (from notebook>=5.6.0->jupyterthemes) (18.1.0)\n",
      "Requirement already satisfied, skipping upgrade: terminado>=0.8.1 in /home/dgorrell/anaconda3/envs/independentStudy/lib/python3.7/site-packages (from notebook>=5.6.0->jupyterthemes) (0.8.2)\n",
      "Requirement already satisfied, skipping upgrade: pygments in /home/dgorrell/anaconda3/envs/independentStudy/lib/python3.7/site-packages (from ipython>=5.4.1->jupyterthemes) (2.4.2)\n",
      "Requirement already satisfied, skipping upgrade: decorator in /home/dgorrell/anaconda3/envs/independentStudy/lib/python3.7/site-packages (from ipython>=5.4.1->jupyterthemes) (4.4.0)\n",
      "Requirement already satisfied, skipping upgrade: backcall in /home/dgorrell/anaconda3/envs/independentStudy/lib/python3.7/site-packages (from ipython>=5.4.1->jupyterthemes) (0.1.0)\n",
      "Requirement already satisfied, skipping upgrade: prompt-toolkit<2.1.0,>=2.0.0 in /home/dgorrell/anaconda3/envs/independentStudy/lib/python3.7/site-packages (from ipython>=5.4.1->jupyterthemes) (2.0.9)\n",
      "Requirement already satisfied, skipping upgrade: pickleshare in /home/dgorrell/anaconda3/envs/independentStudy/lib/python3.7/site-packages (from ipython>=5.4.1->jupyterthemes) (0.7.5)\n",
      "Requirement already satisfied, skipping upgrade: pexpect; sys_platform != \"win32\" in /home/dgorrell/anaconda3/envs/independentStudy/lib/python3.7/site-packages (from ipython>=5.4.1->jupyterthemes) (4.7.0)\n",
      "Requirement already satisfied, skipping upgrade: jedi>=0.10 in /home/dgorrell/anaconda3/envs/independentStudy/lib/python3.7/site-packages (from ipython>=5.4.1->jupyterthemes) (0.15.1)\n",
      "Requirement already satisfied, skipping upgrade: setuptools>=18.5 in /home/dgorrell/anaconda3/envs/independentStudy/lib/python3.7/site-packages (from ipython>=5.4.1->jupyterthemes) (39.1.0)\n",
      "Requirement already satisfied, skipping upgrade: cycler>=0.10 in /home/dgorrell/anaconda3/envs/independentStudy/lib/python3.7/site-packages (from matplotlib>=1.4.3->jupyterthemes) (0.10.0)\n",
      "Requirement already satisfied, skipping upgrade: kiwisolver>=1.0.1 in /home/dgorrell/anaconda3/envs/independentStudy/lib/python3.7/site-packages (from matplotlib>=1.4.3->jupyterthemes) (1.1.0)\n",
      "Requirement already satisfied, skipping upgrade: pyparsing!=2.0.4,!=2.1.2,!=2.1.6,>=2.0.1 in /home/dgorrell/anaconda3/envs/independentStudy/lib/python3.7/site-packages (from matplotlib>=1.4.3->jupyterthemes) (2.4.2)\n",
      "Requirement already satisfied, skipping upgrade: python-dateutil>=2.1 in /home/dgorrell/anaconda3/envs/independentStudy/lib/python3.7/site-packages (from matplotlib>=1.4.3->jupyterthemes) (2.8.0)\n",
      "Requirement already satisfied, skipping upgrade: numpy>=1.11 in /home/dgorrell/anaconda3/envs/independentStudy/lib/python3.7/site-packages (from matplotlib>=1.4.3->jupyterthemes) (1.17.2)\n",
      "Requirement already satisfied, skipping upgrade: defusedxml in /home/dgorrell/anaconda3/envs/independentStudy/lib/python3.7/site-packages (from nbconvert->notebook>=5.6.0->jupyterthemes) (0.6.0)\n",
      "Requirement already satisfied, skipping upgrade: entrypoints>=0.2.2 in /home/dgorrell/anaconda3/envs/independentStudy/lib/python3.7/site-packages (from nbconvert->notebook>=5.6.0->jupyterthemes) (0.3)\n",
      "Requirement already satisfied, skipping upgrade: testpath in /home/dgorrell/anaconda3/envs/independentStudy/lib/python3.7/site-packages (from nbconvert->notebook>=5.6.0->jupyterthemes) (0.4.2)\n",
      "Requirement already satisfied, skipping upgrade: mistune>=0.8.1 in /home/dgorrell/anaconda3/envs/independentStudy/lib/python3.7/site-packages (from nbconvert->notebook>=5.6.0->jupyterthemes) (0.8.4)\n",
      "Requirement already satisfied, skipping upgrade: pandocfilters>=1.4.1 in /home/dgorrell/anaconda3/envs/independentStudy/lib/python3.7/site-packages (from nbconvert->notebook>=5.6.0->jupyterthemes) (1.4.2)\n",
      "Requirement already satisfied, skipping upgrade: bleach in /home/dgorrell/anaconda3/envs/independentStudy/lib/python3.7/site-packages (from nbconvert->notebook>=5.6.0->jupyterthemes) (3.1.0)\n",
      "Requirement already satisfied, skipping upgrade: jsonschema!=2.5.0,>=2.4 in /home/dgorrell/anaconda3/envs/independentStudy/lib/python3.7/site-packages (from nbformat->notebook>=5.6.0->jupyterthemes) (3.0.2)\n",
      "Requirement already satisfied, skipping upgrade: MarkupSafe>=0.23 in /home/dgorrell/anaconda3/envs/independentStudy/lib/python3.7/site-packages (from jinja2->notebook>=5.6.0->jupyterthemes) (1.1.1)\n",
      "Requirement already satisfied, skipping upgrade: wcwidth in /home/dgorrell/anaconda3/envs/independentStudy/lib/python3.7/site-packages (from prompt-toolkit<2.1.0,>=2.0.0->ipython>=5.4.1->jupyterthemes) (0.1.7)\n",
      "Requirement already satisfied, skipping upgrade: ptyprocess>=0.5 in /home/dgorrell/anaconda3/envs/independentStudy/lib/python3.7/site-packages (from pexpect; sys_platform != \"win32\"->ipython>=5.4.1->jupyterthemes) (0.6.0)\n",
      "Requirement already satisfied, skipping upgrade: parso>=0.5.0 in /home/dgorrell/anaconda3/envs/independentStudy/lib/python3.7/site-packages (from jedi>=0.10->ipython>=5.4.1->jupyterthemes) (0.5.1)\n",
      "Requirement already satisfied, skipping upgrade: webencodings in /home/dgorrell/anaconda3/envs/independentStudy/lib/python3.7/site-packages (from bleach->nbconvert->notebook>=5.6.0->jupyterthemes) (0.5.1)\n",
      "Requirement already satisfied, skipping upgrade: attrs>=17.4.0 in /home/dgorrell/anaconda3/envs/independentStudy/lib/python3.7/site-packages (from jsonschema!=2.5.0,>=2.4->nbformat->notebook>=5.6.0->jupyterthemes) (19.1.0)\n"
     ]
    },
    {
     "name": "stdout",
     "output_type": "stream",
     "text": [
      "Requirement already satisfied, skipping upgrade: pyrsistent>=0.14.0 in /home/dgorrell/anaconda3/envs/independentStudy/lib/python3.7/site-packages (from jsonschema!=2.5.0,>=2.4->nbformat->notebook>=5.6.0->jupyterthemes) (0.14.11)\n",
      "Note: you may need to restart the kernel to use updated packages.\n"
     ]
    }
   ],
   "source": [
    "pip install --upgrade jupyterthemes"
   ]
  },
  {
   "cell_type": "code",
   "execution_count": 9,
   "metadata": {},
   "outputs": [
    {
     "name": "stdout",
     "output_type": "stream",
     "text": [
      "\r\n"
     ]
    }
   ],
   "source": [
    "!echo $PYTHONPATH"
   ]
  },
  {
   "cell_type": "code",
   "execution_count": 10,
   "metadata": {},
   "outputs": [
    {
     "name": "stdout",
     "output_type": "stream",
     "text": [
      "/home/dgorrell/anaconda3/envs/independentStudy/bin/python\r\n"
     ]
    }
   ],
   "source": [
    "!which python"
   ]
  },
  {
   "cell_type": "code",
   "execution_count": 11,
   "metadata": {},
   "outputs": [
    {
     "name": "stdout",
     "output_type": "stream",
     "text": [
      "Requirement already satisfied: jupyterthemes in /home/dgorrell/anaconda3/envs/independentStudy/lib/python3.7/site-packages (0.20.0)\n",
      "Requirement already satisfied: matplotlib>=1.4.3 in /home/dgorrell/anaconda3/envs/independentStudy/lib/python3.7/site-packages (from jupyterthemes) (3.1.1)\n",
      "Requirement already satisfied: lesscpy>=0.11.2 in /home/dgorrell/anaconda3/envs/independentStudy/lib/python3.7/site-packages (from jupyterthemes) (0.13.0)\n",
      "Requirement already satisfied: jupyter-core in /home/dgorrell/anaconda3/envs/independentStudy/lib/python3.7/site-packages (from jupyterthemes) (4.5.0)\n",
      "Requirement already satisfied: notebook>=5.6.0 in /home/dgorrell/anaconda3/envs/independentStudy/lib/python3.7/site-packages (from jupyterthemes) (6.0.1)\n",
      "Requirement already satisfied: ipython>=5.4.1 in /home/dgorrell/anaconda3/envs/independentStudy/lib/python3.7/site-packages (from jupyterthemes) (7.8.0)\n",
      "Requirement already satisfied: cycler>=0.10 in /home/dgorrell/anaconda3/envs/independentStudy/lib/python3.7/site-packages (from matplotlib>=1.4.3->jupyterthemes) (0.10.0)\n",
      "Requirement already satisfied: kiwisolver>=1.0.1 in /home/dgorrell/anaconda3/envs/independentStudy/lib/python3.7/site-packages (from matplotlib>=1.4.3->jupyterthemes) (1.1.0)\n",
      "Requirement already satisfied: pyparsing!=2.0.4,!=2.1.2,!=2.1.6,>=2.0.1 in /home/dgorrell/anaconda3/envs/independentStudy/lib/python3.7/site-packages (from matplotlib>=1.4.3->jupyterthemes) (2.4.2)\n",
      "Requirement already satisfied: python-dateutil>=2.1 in /home/dgorrell/anaconda3/envs/independentStudy/lib/python3.7/site-packages (from matplotlib>=1.4.3->jupyterthemes) (2.8.0)\n",
      "Requirement already satisfied: numpy>=1.11 in /home/dgorrell/anaconda3/envs/independentStudy/lib/python3.7/site-packages (from matplotlib>=1.4.3->jupyterthemes) (1.17.2)\n",
      "Requirement already satisfied: six in /home/dgorrell/anaconda3/envs/independentStudy/lib/python3.7/site-packages (from lesscpy>=0.11.2->jupyterthemes) (1.12.0)\n",
      "Requirement already satisfied: ply in /home/dgorrell/anaconda3/envs/independentStudy/lib/python3.7/site-packages (from lesscpy>=0.11.2->jupyterthemes) (3.11)\n",
      "Requirement already satisfied: traitlets in /home/dgorrell/anaconda3/envs/independentStudy/lib/python3.7/site-packages (from jupyter-core->jupyterthemes) (4.3.2)\n",
      "Requirement already satisfied: Send2Trash in /home/dgorrell/anaconda3/envs/independentStudy/lib/python3.7/site-packages (from notebook>=5.6.0->jupyterthemes) (1.5.0)\n",
      "Requirement already satisfied: prometheus-client in /home/dgorrell/anaconda3/envs/independentStudy/lib/python3.7/site-packages (from notebook>=5.6.0->jupyterthemes) (0.7.1)\n",
      "Requirement already satisfied: ipykernel in /home/dgorrell/anaconda3/envs/independentStudy/lib/python3.7/site-packages (from notebook>=5.6.0->jupyterthemes) (5.1.2)\n",
      "Requirement already satisfied: tornado>=5.0 in /home/dgorrell/anaconda3/envs/independentStudy/lib/python3.7/site-packages (from notebook>=5.6.0->jupyterthemes) (6.0.3)\n",
      "Requirement already satisfied: terminado>=0.8.1 in /home/dgorrell/anaconda3/envs/independentStudy/lib/python3.7/site-packages (from notebook>=5.6.0->jupyterthemes) (0.8.2)\n",
      "Requirement already satisfied: pyzmq>=17 in /home/dgorrell/anaconda3/envs/independentStudy/lib/python3.7/site-packages (from notebook>=5.6.0->jupyterthemes) (18.1.0)\n",
      "Requirement already satisfied: ipython-genutils in /home/dgorrell/anaconda3/envs/independentStudy/lib/python3.7/site-packages (from notebook>=5.6.0->jupyterthemes) (0.2.0)\n",
      "Requirement already satisfied: jinja2 in /home/dgorrell/anaconda3/envs/independentStudy/lib/python3.7/site-packages (from notebook>=5.6.0->jupyterthemes) (2.10.1)\n",
      "Requirement already satisfied: nbformat in /home/dgorrell/anaconda3/envs/independentStudy/lib/python3.7/site-packages (from notebook>=5.6.0->jupyterthemes) (4.4.0)\n",
      "Requirement already satisfied: nbconvert in /home/dgorrell/anaconda3/envs/independentStudy/lib/python3.7/site-packages (from notebook>=5.6.0->jupyterthemes) (5.5.0)\n",
      "Requirement already satisfied: jupyter-client>=5.3.1 in /home/dgorrell/anaconda3/envs/independentStudy/lib/python3.7/site-packages (from notebook>=5.6.0->jupyterthemes) (5.3.1)\n",
      "Requirement already satisfied: pickleshare in /home/dgorrell/anaconda3/envs/independentStudy/lib/python3.7/site-packages (from ipython>=5.4.1->jupyterthemes) (0.7.5)\n",
      "Requirement already satisfied: decorator in /home/dgorrell/anaconda3/envs/independentStudy/lib/python3.7/site-packages (from ipython>=5.4.1->jupyterthemes) (4.4.0)\n",
      "Requirement already satisfied: setuptools>=18.5 in /home/dgorrell/anaconda3/envs/independentStudy/lib/python3.7/site-packages (from ipython>=5.4.1->jupyterthemes) (39.1.0)\n",
      "Requirement already satisfied: backcall in /home/dgorrell/anaconda3/envs/independentStudy/lib/python3.7/site-packages (from ipython>=5.4.1->jupyterthemes) (0.1.0)\n",
      "Requirement already satisfied: pexpect; sys_platform != \"win32\" in /home/dgorrell/anaconda3/envs/independentStudy/lib/python3.7/site-packages (from ipython>=5.4.1->jupyterthemes) (4.7.0)\n",
      "Requirement already satisfied: pygments in /home/dgorrell/anaconda3/envs/independentStudy/lib/python3.7/site-packages (from ipython>=5.4.1->jupyterthemes) (2.4.2)\n",
      "Requirement already satisfied: jedi>=0.10 in /home/dgorrell/anaconda3/envs/independentStudy/lib/python3.7/site-packages (from ipython>=5.4.1->jupyterthemes) (0.15.1)\n",
      "Requirement already satisfied: prompt-toolkit<2.1.0,>=2.0.0 in /home/dgorrell/anaconda3/envs/independentStudy/lib/python3.7/site-packages (from ipython>=5.4.1->jupyterthemes) (2.0.9)\n",
      "Requirement already satisfied: MarkupSafe>=0.23 in /home/dgorrell/anaconda3/envs/independentStudy/lib/python3.7/site-packages (from jinja2->notebook>=5.6.0->jupyterthemes) (1.1.1)\n",
      "Requirement already satisfied: jsonschema!=2.5.0,>=2.4 in /home/dgorrell/anaconda3/envs/independentStudy/lib/python3.7/site-packages (from nbformat->notebook>=5.6.0->jupyterthemes) (3.0.2)\n",
      "Requirement already satisfied: entrypoints>=0.2.2 in /home/dgorrell/anaconda3/envs/independentStudy/lib/python3.7/site-packages (from nbconvert->notebook>=5.6.0->jupyterthemes) (0.3)\n",
      "Requirement already satisfied: pandocfilters>=1.4.1 in /home/dgorrell/anaconda3/envs/independentStudy/lib/python3.7/site-packages (from nbconvert->notebook>=5.6.0->jupyterthemes) (1.4.2)\n",
      "Requirement already satisfied: testpath in /home/dgorrell/anaconda3/envs/independentStudy/lib/python3.7/site-packages (from nbconvert->notebook>=5.6.0->jupyterthemes) (0.4.2)\n",
      "Requirement already satisfied: mistune>=0.8.1 in /home/dgorrell/anaconda3/envs/independentStudy/lib/python3.7/site-packages (from nbconvert->notebook>=5.6.0->jupyterthemes) (0.8.4)\n",
      "Requirement already satisfied: bleach in /home/dgorrell/anaconda3/envs/independentStudy/lib/python3.7/site-packages (from nbconvert->notebook>=5.6.0->jupyterthemes) (3.1.0)\n",
      "Requirement already satisfied: defusedxml in /home/dgorrell/anaconda3/envs/independentStudy/lib/python3.7/site-packages (from nbconvert->notebook>=5.6.0->jupyterthemes) (0.6.0)\n",
      "Requirement already satisfied: ptyprocess>=0.5 in /home/dgorrell/anaconda3/envs/independentStudy/lib/python3.7/site-packages (from pexpect; sys_platform != \"win32\"->ipython>=5.4.1->jupyterthemes) (0.6.0)\n",
      "Requirement already satisfied: parso>=0.5.0 in /home/dgorrell/anaconda3/envs/independentStudy/lib/python3.7/site-packages (from jedi>=0.10->ipython>=5.4.1->jupyterthemes) (0.5.1)\n",
      "Requirement already satisfied: wcwidth in /home/dgorrell/anaconda3/envs/independentStudy/lib/python3.7/site-packages (from prompt-toolkit<2.1.0,>=2.0.0->ipython>=5.4.1->jupyterthemes) (0.1.7)\n",
      "Requirement already satisfied: pyrsistent>=0.14.0 in /home/dgorrell/anaconda3/envs/independentStudy/lib/python3.7/site-packages (from jsonschema!=2.5.0,>=2.4->nbformat->notebook>=5.6.0->jupyterthemes) (0.14.11)\n",
      "Requirement already satisfied: attrs>=17.4.0 in /home/dgorrell/anaconda3/envs/independentStudy/lib/python3.7/site-packages (from jsonschema!=2.5.0,>=2.4->nbformat->notebook>=5.6.0->jupyterthemes) (19.1.0)\n",
      "Requirement already satisfied: webencodings in /home/dgorrell/anaconda3/envs/independentStudy/lib/python3.7/site-packages (from bleach->nbconvert->notebook>=5.6.0->jupyterthemes) (0.5.1)\n",
      "Note: you may need to restart the kernel to use updated packages.\n"
     ]
    }
   ],
   "source": [
    "pip install jupyterthemes"
   ]
  },
  {
   "cell_type": "code",
   "execution_count": 12,
   "metadata": {},
   "outputs": [
    {
     "name": "stdout",
     "output_type": "stream",
     "text": [
      "/home/dgorrell/anaconda3/envs/independentStudy/bin/python\r\n"
     ]
    }
   ],
   "source": [
    "!which python"
   ]
  },
  {
   "cell_type": "code",
   "execution_count": 13,
   "metadata": {},
   "outputs": [
    {
     "name": "stdout",
     "output_type": "stream",
     "text": [
      "\r\n"
     ]
    }
   ],
   "source": [
    "!echo $PYTHONPATH"
   ]
  },
  {
   "cell_type": "code",
   "execution_count": 14,
   "metadata": {},
   "outputs": [],
   "source": [
    "!export PYTHONPATH=\"/home/dgorrell/anaconda3/bin/python\""
   ]
  },
  {
   "cell_type": "code",
   "execution_count": 15,
   "metadata": {},
   "outputs": [
    {
     "name": "stdout",
     "output_type": "stream",
     "text": [
      "\r\n"
     ]
    }
   ],
   "source": [
    "!echo $PYTHONPATH"
   ]
  },
  {
   "cell_type": "code",
   "execution_count": 21,
   "metadata": {},
   "outputs": [
    {
     "name": "stdout",
     "output_type": "stream",
     "text": [
      "Available Themes: \r\n",
      "   chesterish\r\n",
      "   grade3\r\n",
      "   gruvboxd\r\n",
      "   gruvboxl\r\n",
      "   monokai\r\n",
      "   oceans16\r\n",
      "   onedork\r\n",
      "   solarizedd\r\n",
      "   solarizedl\r\n"
     ]
    }
   ],
   "source": [
    "!jt -l"
   ]
  },
  {
   "cell_type": "code",
   "execution_count": 27,
   "metadata": {},
   "outputs": [],
   "source": [
    "!jt -t solarizedd"
   ]
  },
  {
   "cell_type": "code",
   "execution_count": 1,
   "metadata": {},
   "outputs": [],
   "source": [
    "!jt -t grade3 -T -N "
   ]
  },
  {
   "cell_type": "code",
   "execution_count": 2,
   "metadata": {},
   "outputs": [],
   "source": [
    "!jt -t grade3 -N -kl"
   ]
  },
  {
   "cell_type": "code",
   "execution_count": 3,
   "metadata": {},
   "outputs": [],
   "source": [
    "!jt -t onedork -f roboto -fs 12"
   ]
  },
  {
   "cell_type": "code",
   "execution_count": 4,
   "metadata": {},
   "outputs": [],
   "source": [
    "!jt -t solarizedd -f fira -fs 115"
   ]
  },
  {
   "cell_type": "code",
   "execution_count": 5,
   "metadata": {},
   "outputs": [],
   "source": [
    "!jt -t oceans16 -tf merriserif -tfs 10 -nf ptsans -nfs 13"
   ]
  },
  {
   "cell_type": "code",
   "execution_count": 6,
   "metadata": {},
   "outputs": [],
   "source": [
    "!jt -t chesterish -cellw 90% -lineh 170"
   ]
  },
  {
   "cell_type": "code",
   "execution_count": 15,
   "metadata": {},
   "outputs": [
    {
     "name": "stdout",
     "output_type": "stream",
     "text": [
      "Collecting jupyter_contrib_nbextensions\n",
      "\u001b[?25l  Downloading https://files.pythonhosted.org/packages/33/f0/6e2c00afda860f655fbf0f795f7310bdbf12122846344dfdc803fc7455d5/jupyter_contrib_nbextensions-0.5.1-py2.py3-none-any.whl (20.9MB)\n",
      "\u001b[K     |████████████████████████████████| 20.9MB 46.7MB/s eta 0:00:01    |██████████████████▊             | 12.2MB 5.0MB/s eta 0:00:02:00:02     |███████████████████████████▌    | 17.9MB 5.0MB/s eta 0:00:01\n",
      "\u001b[?25hRequirement already satisfied: nbconvert>=4.2 in ./anaconda3/envs/independentStudy/lib/python3.7/site-packages (from jupyter_contrib_nbextensions) (5.5.0)\n",
      "Requirement already satisfied: ipython-genutils in ./anaconda3/envs/independentStudy/lib/python3.7/site-packages (from jupyter_contrib_nbextensions) (0.2.0)\n",
      "Collecting jupyter-contrib-core>=0.3.3 (from jupyter_contrib_nbextensions)\n",
      "  Downloading https://files.pythonhosted.org/packages/e6/8f/04a752a8b66a66e7092c035e5d87d2502ac7ec07f9fb6059059b6c0dc272/jupyter_contrib_core-0.3.3-py2.py3-none-any.whl\n",
      "Requirement already satisfied: pyyaml in ./anaconda3/envs/independentStudy/lib/python3.7/site-packages (from jupyter_contrib_nbextensions) (5.1.2)\n",
      "Requirement already satisfied: traitlets>=4.1 in ./anaconda3/envs/independentStudy/lib/python3.7/site-packages (from jupyter_contrib_nbextensions) (4.3.2)\n",
      "Collecting jupyter-latex-envs>=1.3.8 (from jupyter_contrib_nbextensions)\n",
      "\u001b[?25l  Downloading https://files.pythonhosted.org/packages/0e/15/55805de080d5542f76920364635e96e64d3b37f678befdfe3b16aa154205/jupyter_latex_envs-1.4.6.tar.gz (861kB)\n",
      "\u001b[K     |████████████████████████████████| 870kB 35.4MB/s eta 0:00:01\n",
      "\u001b[?25hRequirement already satisfied: notebook>=4.0 in ./anaconda3/envs/independentStudy/lib/python3.7/site-packages (from jupyter_contrib_nbextensions) (6.0.0)\n",
      "Requirement already satisfied: jupyter-core in ./anaconda3/envs/independentStudy/lib/python3.7/site-packages (from jupyter_contrib_nbextensions) (4.5.0)\n",
      "Collecting jupyter-nbextensions-configurator>=0.4.0 (from jupyter_contrib_nbextensions)\n",
      "\u001b[?25l  Downloading https://files.pythonhosted.org/packages/51/a3/d72d5f2dc10c5ccf5a6f4c79f636bf071a5ce462dedd07af2f70384db6cb/jupyter_nbextensions_configurator-0.4.1.tar.gz (479kB)\n",
      "\u001b[K     |████████████████████████████████| 481kB 14.4MB/s eta 0:00:01\n",
      "\u001b[?25hCollecting lxml (from jupyter_contrib_nbextensions)\n",
      "\u001b[?25l  Downloading https://files.pythonhosted.org/packages/e7/a8/40115c84414c017e1a293f331709eb7534303d3ccd11ef805ac09b1481e7/lxml-4.4.1-cp37-cp37m-manylinux1_x86_64.whl (5.7MB)\n",
      "\u001b[K     |████████████████████████████████| 5.8MB 30.4MB/s eta 0:00:01\n",
      "\u001b[?25hCollecting jupyter-highlight-selected-word>=0.1.1 (from jupyter_contrib_nbextensions)\n",
      "  Downloading https://files.pythonhosted.org/packages/50/d7/19ab7cfd60bf268d2abbacc52d4295a40f52d74dfc0d938e4761ee5e598b/jupyter_highlight_selected_word-0.2.0-py2.py3-none-any.whl\n",
      "Requirement already satisfied: tornado in ./anaconda3/envs/independentStudy/lib/python3.7/site-packages (from jupyter_contrib_nbextensions) (6.0.3)\n",
      "Requirement already satisfied: defusedxml in ./anaconda3/envs/independentStudy/lib/python3.7/site-packages (from nbconvert>=4.2->jupyter_contrib_nbextensions) (0.6.0)\n",
      "Requirement already satisfied: jinja2>=2.4 in ./anaconda3/envs/independentStudy/lib/python3.7/site-packages (from nbconvert>=4.2->jupyter_contrib_nbextensions) (2.10.1)\n",
      "Requirement already satisfied: nbformat>=4.4 in ./anaconda3/envs/independentStudy/lib/python3.7/site-packages (from nbconvert>=4.2->jupyter_contrib_nbextensions) (4.4.0)\n",
      "Requirement already satisfied: bleach in ./anaconda3/envs/independentStudy/lib/python3.7/site-packages (from nbconvert>=4.2->jupyter_contrib_nbextensions) (3.1.0)\n",
      "Requirement already satisfied: entrypoints>=0.2.2 in ./anaconda3/envs/independentStudy/lib/python3.7/site-packages (from nbconvert>=4.2->jupyter_contrib_nbextensions) (0.3)\n",
      "Requirement already satisfied: testpath in ./anaconda3/envs/independentStudy/lib/python3.7/site-packages (from nbconvert>=4.2->jupyter_contrib_nbextensions) (0.4.2)\n",
      "Requirement already satisfied: mistune>=0.8.1 in ./anaconda3/envs/independentStudy/lib/python3.7/site-packages (from nbconvert>=4.2->jupyter_contrib_nbextensions) (0.8.4)\n",
      "Requirement already satisfied: pandocfilters>=1.4.1 in ./anaconda3/envs/independentStudy/lib/python3.7/site-packages (from nbconvert>=4.2->jupyter_contrib_nbextensions) (1.4.2)\n",
      "Requirement already satisfied: pygments in ./anaconda3/envs/independentStudy/lib/python3.7/site-packages (from nbconvert>=4.2->jupyter_contrib_nbextensions) (2.4.2)\n",
      "Requirement already satisfied: setuptools in ./anaconda3/envs/independentStudy/lib/python3.7/site-packages (from jupyter-contrib-core>=0.3.3->jupyter_contrib_nbextensions) (39.1.0)\n",
      "Requirement already satisfied: decorator in ./anaconda3/envs/independentStudy/lib/python3.7/site-packages (from traitlets>=4.1->jupyter_contrib_nbextensions) (4.4.0)\n",
      "Requirement already satisfied: six in ./anaconda3/envs/independentStudy/lib/python3.7/site-packages (from traitlets>=4.1->jupyter_contrib_nbextensions) (1.12.0)\n",
      "Requirement already satisfied: ipython in ./anaconda3/envs/independentStudy/lib/python3.7/site-packages (from jupyter-latex-envs>=1.3.8->jupyter_contrib_nbextensions) (7.8.0)\n",
      "Requirement already satisfied: terminado>=0.8.1 in ./anaconda3/envs/independentStudy/lib/python3.7/site-packages (from notebook>=4.0->jupyter_contrib_nbextensions) (0.8.2)\n",
      "Requirement already satisfied: jupyter-client>=5.3.1 in ./anaconda3/envs/independentStudy/lib/python3.7/site-packages (from notebook>=4.0->jupyter_contrib_nbextensions) (5.3.1)\n",
      "Requirement already satisfied: pyzmq>=17 in ./anaconda3/envs/independentStudy/lib/python3.7/site-packages (from notebook>=4.0->jupyter_contrib_nbextensions) (18.1.0)\n",
      "Requirement already satisfied: Send2Trash in ./anaconda3/envs/independentStudy/lib/python3.7/site-packages (from notebook>=4.0->jupyter_contrib_nbextensions) (1.5.0)\n",
      "Requirement already satisfied: ipykernel in ./anaconda3/envs/independentStudy/lib/python3.7/site-packages (from notebook>=4.0->jupyter_contrib_nbextensions) (5.1.2)\n",
      "Requirement already satisfied: prometheus-client in ./anaconda3/envs/independentStudy/lib/python3.7/site-packages (from notebook>=4.0->jupyter_contrib_nbextensions) (0.7.1)\n",
      "Requirement already satisfied: MarkupSafe>=0.23 in ./anaconda3/envs/independentStudy/lib/python3.7/site-packages (from jinja2>=2.4->nbconvert>=4.2->jupyter_contrib_nbextensions) (1.1.1)\n",
      "Requirement already satisfied: jsonschema!=2.5.0,>=2.4 in ./anaconda3/envs/independentStudy/lib/python3.7/site-packages (from nbformat>=4.4->nbconvert>=4.2->jupyter_contrib_nbextensions) (3.0.2)\n",
      "Requirement already satisfied: webencodings in ./anaconda3/envs/independentStudy/lib/python3.7/site-packages (from bleach->nbconvert>=4.2->jupyter_contrib_nbextensions) (0.5.1)\n",
      "Requirement already satisfied: pickleshare in ./anaconda3/envs/independentStudy/lib/python3.7/site-packages (from ipython->jupyter-latex-envs>=1.3.8->jupyter_contrib_nbextensions) (0.7.5)\n",
      "Requirement already satisfied: pexpect; sys_platform != \"win32\" in ./anaconda3/envs/independentStudy/lib/python3.7/site-packages (from ipython->jupyter-latex-envs>=1.3.8->jupyter_contrib_nbextensions) (4.7.0)\n",
      "Requirement already satisfied: backcall in ./anaconda3/envs/independentStudy/lib/python3.7/site-packages (from ipython->jupyter-latex-envs>=1.3.8->jupyter_contrib_nbextensions) (0.1.0)\n",
      "Requirement already satisfied: prompt-toolkit<2.1.0,>=2.0.0 in ./anaconda3/envs/independentStudy/lib/python3.7/site-packages (from ipython->jupyter-latex-envs>=1.3.8->jupyter_contrib_nbextensions) (2.0.9)\n",
      "Requirement already satisfied: jedi>=0.10 in ./anaconda3/envs/independentStudy/lib/python3.7/site-packages (from ipython->jupyter-latex-envs>=1.3.8->jupyter_contrib_nbextensions) (0.15.1)\n",
      "Requirement already satisfied: python-dateutil>=2.1 in ./anaconda3/envs/independentStudy/lib/python3.7/site-packages (from jupyter-client>=5.3.1->notebook>=4.0->jupyter_contrib_nbextensions) (2.8.0)\n",
      "Requirement already satisfied: pyrsistent>=0.14.0 in ./anaconda3/envs/independentStudy/lib/python3.7/site-packages (from jsonschema!=2.5.0,>=2.4->nbformat>=4.4->nbconvert>=4.2->jupyter_contrib_nbextensions) (0.14.11)\n",
      "Requirement already satisfied: attrs>=17.4.0 in ./anaconda3/envs/independentStudy/lib/python3.7/site-packages (from jsonschema!=2.5.0,>=2.4->nbformat>=4.4->nbconvert>=4.2->jupyter_contrib_nbextensions) (19.1.0)\n"
     ]
    },
    {
     "name": "stdout",
     "output_type": "stream",
     "text": [
      "Requirement already satisfied: ptyprocess>=0.5 in ./anaconda3/envs/independentStudy/lib/python3.7/site-packages (from pexpect; sys_platform != \"win32\"->ipython->jupyter-latex-envs>=1.3.8->jupyter_contrib_nbextensions) (0.6.0)\n",
      "Requirement already satisfied: wcwidth in ./anaconda3/envs/independentStudy/lib/python3.7/site-packages (from prompt-toolkit<2.1.0,>=2.0.0->ipython->jupyter-latex-envs>=1.3.8->jupyter_contrib_nbextensions) (0.1.7)\n",
      "Requirement already satisfied: parso>=0.5.0 in ./anaconda3/envs/independentStudy/lib/python3.7/site-packages (from jedi>=0.10->ipython->jupyter-latex-envs>=1.3.8->jupyter_contrib_nbextensions) (0.5.1)\n",
      "Building wheels for collected packages: jupyter-latex-envs, jupyter-nbextensions-configurator\n",
      "  Building wheel for jupyter-latex-envs (setup.py) ... \u001b[?25ldone\n",
      "\u001b[?25h  Created wheel for jupyter-latex-envs: filename=jupyter_latex_envs-1.4.6-py2.py3-none-any.whl size=963394 sha256=ef9f35d778561b23b23c8e0de576b2a8e196fcbc5468e22248dd3245307bccc7\n",
      "  Stored in directory: /home/dgorrell/.cache/pip/wheels/0d/71/2a/164491997299b9f2479a251e254323fe35d946779e18f27956\n",
      "  Building wheel for jupyter-nbextensions-configurator (setup.py) ... \u001b[?25ldone\n",
      "\u001b[?25h  Created wheel for jupyter-nbextensions-configurator: filename=jupyter_nbextensions_configurator-0.4.1-py2.py3-none-any.whl size=465824 sha256=48ca7e693a74328f16152bf54f6d6f0547fd911064498127bc8f8a91b1674558\n",
      "  Stored in directory: /home/dgorrell/.cache/pip/wheels/15/df/fe/2a74fe34709e7fdc5ae153a768675d9fda93cc7d5133ed1fb0\n",
      "Successfully built jupyter-latex-envs jupyter-nbextensions-configurator\n",
      "Installing collected packages: jupyter-contrib-core, jupyter-latex-envs, jupyter-nbextensions-configurator, lxml, jupyter-highlight-selected-word, jupyter-contrib-nbextensions\n",
      "Successfully installed jupyter-contrib-core-0.3.3 jupyter-contrib-nbextensions-0.5.1 jupyter-highlight-selected-word-0.2.0 jupyter-latex-envs-1.4.6 jupyter-nbextensions-configurator-0.4.1 lxml-4.4.1\n",
      "\u001b[32m[I 02:20:58 InstallContribNbextensionsApp]\u001b[m jupyter contrib nbextension install \n",
      "\u001b[32m[I 02:20:58 InstallContribNbextensionsApp]\u001b[m Installing jupyter_contrib_nbextensions nbextension files to jupyter data directory\n",
      "\u001b[32m[I 02:20:58 InstallContribNbextensionsApp]\u001b[m Installing /home/dgorrell/anaconda3/envs/independentStudy/lib/python3.7/site-packages/jupyter_contrib_nbextensions/nbextensions/zenmode -> zenmode\n",
      "Traceback (most recent call last):\n",
      "  File \"/home/dgorrell/anaconda3/envs/independentStudy/bin/jupyter-contrib\", line 10, in <module>\n",
      "    sys.exit(main())\n",
      "  File \"/home/dgorrell/anaconda3/envs/independentStudy/lib/python3.7/site-packages/jupyter_core/application.py\", line 267, in launch_instance\n",
      "    return super(JupyterApp, cls).launch_instance(argv=argv, **kwargs)\n",
      "  File \"/home/dgorrell/anaconda3/envs/independentStudy/lib/python3.7/site-packages/traitlets/config/application.py\", line 658, in launch_instance\n",
      "    app.start()\n",
      "  File \"/home/dgorrell/anaconda3/envs/independentStudy/lib/python3.7/site-packages/jupyter_contrib_core/application.py\", line 50, in start\n",
      "    super(JupyterContribApp, self).start()\n",
      "  File \"/home/dgorrell/anaconda3/envs/independentStudy/lib/python3.7/site-packages/jupyter_core/application.py\", line 256, in start\n",
      "    self.subapp.start()\n",
      "  File \"/home/dgorrell/anaconda3/envs/independentStudy/lib/python3.7/site-packages/jupyter_contrib_nbextensions/application.py\", line 231, in start\n",
      "    super(ContribNbextensionsApp, self).start()\n",
      "  File \"/home/dgorrell/anaconda3/envs/independentStudy/lib/python3.7/site-packages/jupyter_core/application.py\", line 256, in start\n",
      "    self.subapp.start()\n",
      "  File \"/home/dgorrell/anaconda3/envs/independentStudy/lib/python3.7/site-packages/jupyter_contrib_nbextensions/application.py\", line 178, in start\n",
      "    toggle_install_files(self._toggle_value, **kwargs_files)\n",
      "  File \"/home/dgorrell/anaconda3/envs/independentStudy/lib/python3.7/site-packages/jupyter_contrib_nbextensions/install.py\", line 75, in toggle_install_files\n",
      "    mod.__name__, overwrite=overwrite, symlink=symlink, **kwargs)\n",
      "  File \"/home/dgorrell/anaconda3/envs/independentStudy/lib/python3.7/site-packages/notebook/nbextensions.py\", line 225, in install_nbextension_python\n",
      "    destination=dest, logger=logger\n",
      "  File \"/home/dgorrell/anaconda3/envs/independentStudy/lib/python3.7/site-packages/notebook/nbextensions.py\", line 126, in install_nbextension\n",
      "    ensure_dir_exists(nbext)\n",
      "  File \"/home/dgorrell/anaconda3/envs/independentStudy/lib/python3.7/site-packages/jupyter_core/utils/__init__.py\", line 13, in ensure_dir_exists\n",
      "    os.makedirs(path, mode=mode)\n",
      "  File \"/home/dgorrell/anaconda3/envs/independentStudy/lib/python3.7/os.py\", line 211, in makedirs\n",
      "    makedirs(head, exist_ok=exist_ok)\n",
      "  File \"/home/dgorrell/anaconda3/envs/independentStudy/lib/python3.7/os.py\", line 221, in makedirs\n",
      "    mkdir(name, mode)\n",
      "PermissionError: [Errno 13] Permission denied: '/usr/local/share/jupyter'\n"
     ]
    }
   ],
   "source": [
    "!pip install jupyter_contrib_nbextensions \n",
    "!jupyter contrib nbextension install"
   ]
  },
  {
   "cell_type": "code",
   "execution_count": 2,
   "metadata": {},
   "outputs": [
    {
     "name": "stdout",
     "output_type": "stream",
     "text": [
      "Collecting qgrid\n",
      "\u001b[?25l  Downloading https://files.pythonhosted.org/packages/70/63/0e0827682889f1a4ee74191b8bebc2e6fca1d18927d8875af0e37044d2d3/qgrid-1.1.1.tar.gz (793kB)\n",
      "\u001b[K     |████████████████████████████████| 798kB 4.6MB/s eta 0:00:01\n",
      "\u001b[?25hRequirement already satisfied: notebook>=4.0.0 in /home/dgorrell/anaconda3/envs/independentStudy/lib/python3.7/site-packages (from qgrid) (6.0.0)\n",
      "Requirement already satisfied: pandas>=0.18.0 in /home/dgorrell/anaconda3/envs/independentStudy/lib/python3.7/site-packages (from qgrid) (0.25.1)\n",
      "Requirement already satisfied: ipywidgets>=7.0.0 in /home/dgorrell/anaconda3/envs/independentStudy/lib/python3.7/site-packages (from qgrid) (7.5.1)\n",
      "Requirement already satisfied: jupyter-client>=5.3.1 in /home/dgorrell/anaconda3/envs/independentStudy/lib/python3.7/site-packages (from notebook>=4.0.0->qgrid) (5.3.1)\n",
      "Requirement already satisfied: jupyter-core>=4.4.0 in /home/dgorrell/anaconda3/envs/independentStudy/lib/python3.7/site-packages (from notebook>=4.0.0->qgrid) (4.5.0)\n",
      "Requirement already satisfied: ipython-genutils in /home/dgorrell/anaconda3/envs/independentStudy/lib/python3.7/site-packages (from notebook>=4.0.0->qgrid) (0.2.0)\n",
      "Requirement already satisfied: jinja2 in /home/dgorrell/anaconda3/envs/independentStudy/lib/python3.7/site-packages (from notebook>=4.0.0->qgrid) (2.10.1)\n",
      "Requirement already satisfied: nbconvert in /home/dgorrell/anaconda3/envs/independentStudy/lib/python3.7/site-packages (from notebook>=4.0.0->qgrid) (5.5.0)\n",
      "Requirement already satisfied: Send2Trash in /home/dgorrell/anaconda3/envs/independentStudy/lib/python3.7/site-packages (from notebook>=4.0.0->qgrid) (1.5.0)\n",
      "Requirement already satisfied: traitlets>=4.2.1 in /home/dgorrell/anaconda3/envs/independentStudy/lib/python3.7/site-packages (from notebook>=4.0.0->qgrid) (4.3.2)\n",
      "Requirement already satisfied: ipykernel in /home/dgorrell/anaconda3/envs/independentStudy/lib/python3.7/site-packages (from notebook>=4.0.0->qgrid) (5.1.2)\n",
      "Requirement already satisfied: tornado>=5.0 in /home/dgorrell/anaconda3/envs/independentStudy/lib/python3.7/site-packages (from notebook>=4.0.0->qgrid) (6.0.3)\n",
      "Requirement already satisfied: pyzmq>=17 in /home/dgorrell/anaconda3/envs/independentStudy/lib/python3.7/site-packages (from notebook>=4.0.0->qgrid) (18.1.0)\n",
      "Requirement already satisfied: prometheus-client in /home/dgorrell/anaconda3/envs/independentStudy/lib/python3.7/site-packages (from notebook>=4.0.0->qgrid) (0.7.1)\n",
      "Requirement already satisfied: terminado>=0.8.1 in /home/dgorrell/anaconda3/envs/independentStudy/lib/python3.7/site-packages (from notebook>=4.0.0->qgrid) (0.8.2)\n",
      "Requirement already satisfied: nbformat in /home/dgorrell/anaconda3/envs/independentStudy/lib/python3.7/site-packages (from notebook>=4.0.0->qgrid) (4.4.0)\n",
      "Requirement already satisfied: numpy>=1.13.3 in /home/dgorrell/anaconda3/envs/independentStudy/lib/python3.7/site-packages (from pandas>=0.18.0->qgrid) (1.17.2)\n",
      "Requirement already satisfied: pytz>=2017.2 in /home/dgorrell/anaconda3/envs/independentStudy/lib/python3.7/site-packages (from pandas>=0.18.0->qgrid) (2019.2)\n",
      "Requirement already satisfied: python-dateutil>=2.6.1 in /home/dgorrell/anaconda3/envs/independentStudy/lib/python3.7/site-packages (from pandas>=0.18.0->qgrid) (2.8.0)\n",
      "Requirement already satisfied: ipython>=4.0.0; python_version >= \"3.3\" in /home/dgorrell/anaconda3/envs/independentStudy/lib/python3.7/site-packages (from ipywidgets>=7.0.0->qgrid) (7.8.0)\n",
      "Requirement already satisfied: widgetsnbextension~=3.5.0 in /home/dgorrell/anaconda3/envs/independentStudy/lib/python3.7/site-packages (from ipywidgets>=7.0.0->qgrid) (3.5.1)\n",
      "Requirement already satisfied: MarkupSafe>=0.23 in /home/dgorrell/anaconda3/envs/independentStudy/lib/python3.7/site-packages (from jinja2->notebook>=4.0.0->qgrid) (1.1.1)\n",
      "Requirement already satisfied: mistune>=0.8.1 in /home/dgorrell/anaconda3/envs/independentStudy/lib/python3.7/site-packages (from nbconvert->notebook>=4.0.0->qgrid) (0.8.4)\n",
      "Requirement already satisfied: testpath in /home/dgorrell/anaconda3/envs/independentStudy/lib/python3.7/site-packages (from nbconvert->notebook>=4.0.0->qgrid) (0.4.2)\n",
      "Requirement already satisfied: defusedxml in /home/dgorrell/anaconda3/envs/independentStudy/lib/python3.7/site-packages (from nbconvert->notebook>=4.0.0->qgrid) (0.6.0)\n",
      "Requirement already satisfied: entrypoints>=0.2.2 in /home/dgorrell/anaconda3/envs/independentStudy/lib/python3.7/site-packages (from nbconvert->notebook>=4.0.0->qgrid) (0.3)\n",
      "Requirement already satisfied: pandocfilters>=1.4.1 in /home/dgorrell/anaconda3/envs/independentStudy/lib/python3.7/site-packages (from nbconvert->notebook>=4.0.0->qgrid) (1.4.2)\n",
      "Requirement already satisfied: pygments in /home/dgorrell/anaconda3/envs/independentStudy/lib/python3.7/site-packages (from nbconvert->notebook>=4.0.0->qgrid) (2.4.2)\n",
      "Requirement already satisfied: bleach in /home/dgorrell/anaconda3/envs/independentStudy/lib/python3.7/site-packages (from nbconvert->notebook>=4.0.0->qgrid) (3.1.0)\n",
      "Requirement already satisfied: six in /home/dgorrell/anaconda3/envs/independentStudy/lib/python3.7/site-packages (from traitlets>=4.2.1->notebook>=4.0.0->qgrid) (1.12.0)\n",
      "Requirement already satisfied: decorator in /home/dgorrell/anaconda3/envs/independentStudy/lib/python3.7/site-packages (from traitlets>=4.2.1->notebook>=4.0.0->qgrid) (4.4.0)\n",
      "Requirement already satisfied: jsonschema!=2.5.0,>=2.4 in /home/dgorrell/anaconda3/envs/independentStudy/lib/python3.7/site-packages (from nbformat->notebook>=4.0.0->qgrid) (3.0.2)\n",
      "Requirement already satisfied: jedi>=0.10 in /home/dgorrell/anaconda3/envs/independentStudy/lib/python3.7/site-packages (from ipython>=4.0.0; python_version >= \"3.3\"->ipywidgets>=7.0.0->qgrid) (0.15.1)\n",
      "Requirement already satisfied: pickleshare in /home/dgorrell/anaconda3/envs/independentStudy/lib/python3.7/site-packages (from ipython>=4.0.0; python_version >= \"3.3\"->ipywidgets>=7.0.0->qgrid) (0.7.5)\n",
      "Requirement already satisfied: pexpect; sys_platform != \"win32\" in /home/dgorrell/anaconda3/envs/independentStudy/lib/python3.7/site-packages (from ipython>=4.0.0; python_version >= \"3.3\"->ipywidgets>=7.0.0->qgrid) (4.7.0)\n",
      "Requirement already satisfied: prompt-toolkit<2.1.0,>=2.0.0 in /home/dgorrell/anaconda3/envs/independentStudy/lib/python3.7/site-packages (from ipython>=4.0.0; python_version >= \"3.3\"->ipywidgets>=7.0.0->qgrid) (2.0.9)\n",
      "Requirement already satisfied: setuptools>=18.5 in /home/dgorrell/anaconda3/envs/independentStudy/lib/python3.7/site-packages (from ipython>=4.0.0; python_version >= \"3.3\"->ipywidgets>=7.0.0->qgrid) (39.1.0)\n",
      "Requirement already satisfied: backcall in /home/dgorrell/anaconda3/envs/independentStudy/lib/python3.7/site-packages (from ipython>=4.0.0; python_version >= \"3.3\"->ipywidgets>=7.0.0->qgrid) (0.1.0)\n",
      "Requirement already satisfied: webencodings in /home/dgorrell/anaconda3/envs/independentStudy/lib/python3.7/site-packages (from bleach->nbconvert->notebook>=4.0.0->qgrid) (0.5.1)\n",
      "Requirement already satisfied: pyrsistent>=0.14.0 in /home/dgorrell/anaconda3/envs/independentStudy/lib/python3.7/site-packages (from jsonschema!=2.5.0,>=2.4->nbformat->notebook>=4.0.0->qgrid) (0.14.11)\n",
      "Requirement already satisfied: attrs>=17.4.0 in /home/dgorrell/anaconda3/envs/independentStudy/lib/python3.7/site-packages (from jsonschema!=2.5.0,>=2.4->nbformat->notebook>=4.0.0->qgrid) (19.1.0)\n",
      "Requirement already satisfied: parso>=0.5.0 in /home/dgorrell/anaconda3/envs/independentStudy/lib/python3.7/site-packages (from jedi>=0.10->ipython>=4.0.0; python_version >= \"3.3\"->ipywidgets>=7.0.0->qgrid) (0.5.1)\n",
      "Requirement already satisfied: ptyprocess>=0.5 in /home/dgorrell/anaconda3/envs/independentStudy/lib/python3.7/site-packages (from pexpect; sys_platform != \"win32\"->ipython>=4.0.0; python_version >= \"3.3\"->ipywidgets>=7.0.0->qgrid) (0.6.0)\n",
      "Requirement already satisfied: wcwidth in /home/dgorrell/anaconda3/envs/independentStudy/lib/python3.7/site-packages (from prompt-toolkit<2.1.0,>=2.0.0->ipython>=4.0.0; python_version >= \"3.3\"->ipywidgets>=7.0.0->qgrid) (0.1.7)\n",
      "Building wheels for collected packages: qgrid\n",
      "  Building wheel for qgrid (setup.py) ... \u001b[?25ldone\n",
      "\u001b[?25h  Created wheel for qgrid: filename=qgrid-1.1.1-py2.py3-none-any.whl size=1555708 sha256=5bac85c12d4bd3dd756a893662784eebf756f763d7cd238dd9635446d92ed5b0\n",
      "  Stored in directory: /home/dgorrell/.cache/pip/wheels/97/71/37/8423045f66492c2b48ba9e968257ff7fdc7c941e2656380441\n"
     ]
    },
    {
     "name": "stdout",
     "output_type": "stream",
     "text": [
      "Successfully built qgrid\n",
      "Installing collected packages: qgrid\n",
      "Successfully installed qgrid-1.1.1\n",
      "Enabling notebook extension jupyter-js-widgets/extension...\n",
      "      - Validating: \u001b[32mOK\u001b[0m\n"
     ]
    }
   ],
   "source": [
    "!pip install qgrid\n",
    "!jupyter nbextension enable --py --sys-prefix widgetsnbextension"
   ]
  },
  {
   "cell_type": "code",
   "execution_count": 4,
   "metadata": {},
   "outputs": [
    {
     "name": "stdout",
     "output_type": "stream",
     "text": [
      "Enabling notebook extension jupyter-js-widgets/extension...\r\n",
      "      - Validating: \u001b[32mOK\u001b[0m\r\n"
     ]
    }
   ],
   "source": [
    "!jupyter nbextension enable --py --sys-prefix widgetsnbextension"
   ]
  },
  {
   "cell_type": "code",
   "execution_count": null,
   "metadata": {},
   "outputs": [],
   "source": []
  }
 ],
 "metadata": {
  "kernelspec": {
   "display_name": "Python 3",
   "language": "python",
   "name": "python3"
  },
  "language_info": {
   "codemirror_mode": {
    "name": "ipython",
    "version": 3
   },
   "file_extension": ".py",
   "mimetype": "text/x-python",
   "name": "python",
   "nbconvert_exporter": "python",
   "pygments_lexer": "ipython3",
   "version": "3.7.4"
  }
 },
 "nbformat": 4,
 "nbformat_minor": 2
}
